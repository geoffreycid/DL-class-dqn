{
 "cells": [
  {
   "cell_type": "markdown",
   "metadata": {},
   "source": [
    "## Geoffrey CIDERON MVA"
   ]
  },
  {
   "cell_type": "markdown",
   "metadata": {},
   "source": [
    "**You may need to install [OpenCV](https://pypi.python.org/pypi/opencv-python) and [scikit-video](http://www.scikit-video.org/stable/).**"
   ]
  },
  {
   "cell_type": "code",
   "execution_count": 1,
   "metadata": {},
   "outputs": [],
   "source": [
    "import tensorflow.keras\n",
    "import numpy as np\n",
    "import io\n",
    "import base64\n",
    "from IPython.display import HTML\n",
    "import skvideo.io\n",
    "import cv2\n",
    "import json\n",
    "import random\n",
    "\n",
    "from tensorflow.keras.models import Sequential,model_from_json\n",
    "from tensorflow.keras.layers import Dense\n",
    "from tensorflow.keras.optimizers import SGD\n",
    "from tensorflow.keras.layers import Conv2D, MaxPooling2D, Activation, AveragePooling2D,Reshape,BatchNormalization"
   ]
  },
  {
   "cell_type": "markdown",
   "metadata": {},
   "source": [
    "# MiniProject #3: Deep Reinforcement Learning"
   ]
  },
  {
   "cell_type": "markdown",
   "metadata": {},
   "source": [
    "__Notations__: $E_p$ is the expectation under probability $p$. Please justify each of your answer and widely comment your code."
   ]
  },
  {
   "cell_type": "markdown",
   "metadata": {},
   "source": [
    "# Context"
   ]
  },
  {
   "cell_type": "markdown",
   "metadata": {},
   "source": [
    "In a reinforcement learning algorithm, we modelize each step $t$ as an action $a_t$ obtained from a state $s_t$, i.e. $\\{(a_{t},s_{t})_{t\\leq T}\\}$ having the Markov property. We consider a discount factor $\\gamma \\in [0,1]$ that ensures convergence. The goal is to find among all the policies $\\pi$, one that maximizes the expected reward:\n",
    "\n",
    "\\begin{equation*}\n",
    "R(\\pi)=\\sum_{t\\leq T}E_{p^{\\pi}}[\\gamma^t r(s_{t},a_{t})] \\> ,\n",
    "\\end{equation*}\n",
    "\n",
    "where: \n",
    "\\begin{equation*}p^{\\pi}(a_{0},a_{1},s_{1},...,a_{T},s_{T})=p(a_{0})\\prod_{t=1}^{T}\\pi(a_{t}|s_{t})p(s_{t+1}|s_{t},a_{t}) \\> .\n",
    "\\end{equation*}\n",
    "\n",
    "We note the $Q$-function:\n",
    "\n",
    "\\begin{equation*}Q^\\pi(s,a)=E_{p^{\\pi}}[\\sum_{t\\leq T}\\gamma^{t}r(s_{t},a_{t})|s_{0}=s,a_{0}=a] \\> .\n",
    "\\end{equation*}\n",
    "\n",
    "Thus, the optimal Q function is:\n",
    "\\begin{equation*}\n",
    "Q^*(s,a)=\\max_{\\pi}Q^\\pi(s,a) \\> .\n",
    "\\end{equation*}\n",
    "\n",
    "In this project, we will apply the deep reinforcement learning techniques to a simple game: an agent will have to learn from scratch a policy that will permit it maximizing a reward."
   ]
  },
  {
   "cell_type": "markdown",
   "metadata": {},
   "source": [
    "## The environment, the agent and the game"
   ]
  },
  {
   "cell_type": "markdown",
   "metadata": {},
   "source": [
    "### The environment"
   ]
  },
  {
   "cell_type": "markdown",
   "metadata": {},
   "source": [
    "```Environment``` is an abstract class that represents the states, rewards, and actions to obtain the new state."
   ]
  },
  {
   "cell_type": "code",
   "execution_count": 2,
   "metadata": {},
   "outputs": [],
   "source": [
    "class Environment(object):\n",
    "    def __init__(self):\n",
    "        pass\n",
    "\n",
    "    def act(self, act):\n",
    "        \"\"\"\n",
    "        One can act on the environment and obtain its reaction:\n",
    "        - the new state\n",
    "        - the reward of the new state\n",
    "        - should we continue the game?\n",
    "\n",
    "        :return: state, reward, game_over\n",
    "        \"\"\"\n",
    "        pass\n",
    "\n",
    "\n",
    "    def reset(self):\n",
    "        \"\"\"\n",
    "        Reinitialize the environment to a random state and returns\n",
    "        the original state\n",
    "\n",
    "        :return: state\n",
    "        \"\"\"\n",
    "        pass\n",
    "    \n",
    "    def draw(self):\n",
    "        \"\"\"\n",
    "        Visualize in the console or graphically the current state\n",
    "        \"\"\"\n",
    "        pass"
   ]
  },
  {
   "cell_type": "markdown",
   "metadata": {},
   "source": [
    "The method ```act``` allows to act on the environment at a given state $s_t$ (stored internally), via action $a_t$. The method will return the new state $s_{t+1}$, the reward $r(s_{t},a_{t})$ and determines if $t\\leq T$ (*game_over*).\n",
    "\n",
    "The method ```reset``` simply reinitializes the environment to a random state $s_0$.\n",
    "\n",
    "The method ```draw``` displays the current state $s_t$ (this is useful to check the behavior of the Agent).\n",
    "\n",
    "We modelize $s_t$ as a tensor, while $a_t$ is an integer."
   ]
  },
  {
   "cell_type": "markdown",
   "metadata": {},
   "source": [
    "### The Agent"
   ]
  },
  {
   "cell_type": "markdown",
   "metadata": {},
   "source": [
    "The goal of the ```Agent``` is to interact with the ```Environment``` by proposing actions $a_t$ obtained from a given state $s_t$ to attempt to maximize its __reward__ $r(s_t,a_t)$. We propose the following abstract class:"
   ]
  },
  {
   "cell_type": "code",
   "execution_count": 3,
   "metadata": {},
   "outputs": [],
   "source": [
    "class Agent(object):\n",
    "    def __init__(self, epsilon=0.1, n_action=4):\n",
    "        self.epsilon = epsilon\n",
    "        self.n_action = n_action\n",
    "    \n",
    "    def set_epsilon(self,e):\n",
    "        self.epsilon = e\n",
    "\n",
    "    def act(self,s,train=True):\n",
    "        \"\"\" This function should return the next action to do:\n",
    "        an integer between 0 and 4 (not included) with a random exploration of epsilon\"\"\"\n",
    "        if train:\n",
    "            if np.random.rand() <= self.epsilon:\n",
    "                a = np.random.randint(0, self.n_action, size=1)[0]\n",
    "            else:\n",
    "                a = self.learned_act(s)\n",
    "        else: # in some cases, this can improve the performance.. remove it if poor performances\n",
    "            a = self.learned_act(s)\n",
    "\n",
    "        return a\n",
    "\n",
    "    def learned_act(self,s):\n",
    "        \"\"\" Act via the policy of the agent, from a given state s\n",
    "        it proposes an action a\"\"\"\n",
    "        pass\n",
    "\n",
    "    def reinforce(self, s, n_s, a, r, game_over_):\n",
    "        \"\"\" This function is the core of the learning algorithm. \n",
    "        It takes as an input the current state s_, the next state n_s_\n",
    "        the action a_ used to move from s_ to n_s_ and the reward r_.\n",
    "        \n",
    "        Its goal is to learn a policy.\n",
    "        \"\"\"\n",
    "        pass\n",
    "\n",
    "    def save(self):\n",
    "        \"\"\" This function returns basic stats if applicable: the\n",
    "        loss and/or the model\"\"\"\n",
    "        pass\n",
    "\n",
    "    def load(self):\n",
    "        \"\"\" This function allows to restore a model\"\"\"\n",
    "        pass"
   ]
  },
  {
   "cell_type": "markdown",
   "metadata": {},
   "source": [
    "***\n",
    "__Question 1__:\n",
    "Explain the function act. Why is ```epsilon``` essential?"
   ]
  },
  {
   "cell_type": "markdown",
   "metadata": {},
   "source": [
    "> $\\epsilon$ allows to have some random exploration. Without it the agent will not explore a part of the space and so may not be able to find the best behaviour. The agent will \"exploit\" its current knowledge without taking into account that it did not explore all the space."
   ]
  },
  {
   "cell_type": "markdown",
   "metadata": {},
   "source": [
    "***\n",
    "### The Game"
   ]
  },
  {
   "cell_type": "markdown",
   "metadata": {},
   "source": [
    "The ```Agent``` and the ```Environment``` work in an interlaced way as in the following (take some time to understand this code as it is the core of the project)\n",
    "\n",
    "```python\n",
    "\n",
    "epoch = 300\n",
    "env = Environment()\n",
    "agent = Agent()\n",
    "\n",
    "\n",
    "# Number of won games\n",
    "score = 0\n",
    "loss = 0\n",
    "\n",
    "\n",
    "for e in range(epoch):\n",
    "    # At each epoch, we restart to a fresh game and get the initial state\n",
    "    state = env.reset()\n",
    "    # This assumes that the games will end\n",
    "    game_over = False\n",
    "\n",
    "    win = 0\n",
    "    lose = 0\n",
    "    \n",
    "    while not game_over:\n",
    "        # The agent performs an action\n",
    "        action = agent.act(state)\n",
    "\n",
    "        # Apply an action to the environment, get the next state, the reward\n",
    "        # and if the games end\n",
    "        prev_state = state\n",
    "        state, reward, game_over = env.act(action)\n",
    "\n",
    "        # Update the counters\n",
    "        if reward > 0:\n",
    "            win = win + reward\n",
    "        if reward < 0:\n",
    "            lose = lose -reward\n",
    "\n",
    "        # Apply the reinforcement strategy\n",
    "        loss = agent.reinforce(prev_state, state,  action, reward, game_over)\n",
    "\n",
    "    # Save as a mp4\n",
    "    if e % 10 == 0:\n",
    "        env.draw(e)\n",
    "\n",
    "    # Update stats\n",
    "    score += win-lose\n",
    "\n",
    "    print(\"Epoch {:03d}/{:03d} | Loss {:.4f} | Win/lose count {}/{} ({})\"\n",
    "          .format(e, epoch, loss, win, lose, win-lose))\n",
    "    agent.save()\n",
    "```"
   ]
  },
  {
   "cell_type": "markdown",
   "metadata": {},
   "source": [
    "# The game, *eat cheese*"
   ]
  },
  {
   "cell_type": "markdown",
   "metadata": {},
   "source": [
    "A rat runs on an island and tries to eat as much as possible. The island is subdivided into $N\\times N$ cells, in which there are cheese (+0.5) and poisonous cells (-1). The rat has a visibility of 2 cells (thus it can see $5^2$ cells). The rat is given a time $T$ to accumulate as much food as possible. It can perform 4 actions: going up, down, left, right. \n",
    "\n",
    "The goal is to code an agent to solve this task that will learn by trial and error. We propose the following environment:"
   ]
  },
  {
   "cell_type": "code",
   "execution_count": 29,
   "metadata": {},
   "outputs": [
    {
     "data": {
      "text/plain": [
       "(14, 14)"
      ]
     },
     "execution_count": 29,
     "metadata": {},
     "output_type": "execute_result"
    }
   ],
   "source": [
    "env.board.shape"
   ]
  },
  {
   "cell_type": "code",
   "execution_count": 4,
   "metadata": {},
   "outputs": [],
   "source": [
    "class Environment(object):\n",
    "    def __init__(self, grid_size=10, max_time=500, temperature=0.1):\n",
    "        grid_size = grid_size+4\n",
    "        self.grid_size = grid_size\n",
    "        self.max_time = max_time\n",
    "        self.temperature = temperature\n",
    "\n",
    "        #board on which one plays\n",
    "        self.board = np.zeros((grid_size,grid_size))\n",
    "        self.position = np.zeros((grid_size,grid_size))\n",
    "\n",
    "        # coordinate of the cat\n",
    "        self.x = 0\n",
    "        self.y = 1\n",
    "\n",
    "        # self time\n",
    "        self.t = 0\n",
    "\n",
    "        self.scale=16\n",
    "\n",
    "        self.to_draw = np.zeros((max_time+2, grid_size*self.scale, grid_size*self.scale, 3))\n",
    "\n",
    "\n",
    "    def draw(self,e):\n",
    "        skvideo.io.vwrite(str(e) + '.mp4', self.to_draw)\n",
    "\n",
    "    def get_frame(self,t):\n",
    "        b = np.zeros((self.grid_size,self.grid_size,3))+128\n",
    "        b[self.board>0,0] = 256\n",
    "        b[self.board < 0, 2] = 256\n",
    "        b[self.x,self.y,:]=256\n",
    "        b[-2:,:,:]=0\n",
    "        b[:,-2:,:]=0\n",
    "        b[:2,:,:]=0\n",
    "        b[:,:2,:]=0\n",
    "        \n",
    "        b =  cv2.resize(b, None, fx=self.scale, fy=self.scale, interpolation=cv2.INTER_NEAREST)\n",
    "\n",
    "        self.to_draw[t,:,:,:]=b\n",
    "\n",
    "\n",
    "    def act(self, action):\n",
    "        \"\"\"This function returns the new state, reward and decides if the\n",
    "        game ends.\"\"\"\n",
    "\n",
    "        self.get_frame(int(self.t))\n",
    "\n",
    "        self.position = np.zeros((self.grid_size, self.grid_size))\n",
    "\n",
    "        self.position[0:2,:]= -1\n",
    "        self.position[:,0:2] = -1\n",
    "        self.position[-2:, :] = -1\n",
    "        self.position[-2:, :] = -1\n",
    "\n",
    "        self.position[self.x, self.y] = 1\n",
    "        if action == 0:\n",
    "            if self.x == self.grid_size-3:\n",
    "                self.x = self.x-1\n",
    "            else:\n",
    "                self.x = self.x + 1\n",
    "        elif action == 1:\n",
    "            if self.x == 2:\n",
    "                self.x = self.x+1\n",
    "            else:\n",
    "                self.x = self.x-1\n",
    "        elif action == 2:\n",
    "            if self.y == self.grid_size - 3:\n",
    "                self.y = self.y - 1\n",
    "            else:\n",
    "                self.y = self.y + 1\n",
    "        elif action == 3:\n",
    "            if self.y == 2:\n",
    "                self.y = self.y + 1\n",
    "            else:\n",
    "                self.y = self.y - 1\n",
    "        else:\n",
    "            RuntimeError('Error: action not recognized')\n",
    "\n",
    "        self.t = self.t + 1\n",
    "        reward = self.board[self.x, self.y]\n",
    "        self.board[self.x, self.y] = 0\n",
    "        game_over = self.t > self.max_time\n",
    "        state = np.concatenate((self.board.reshape(self.grid_size, self.grid_size,1),\n",
    "                        self.position.reshape(self.grid_size, self.grid_size,1)),axis=2)\n",
    "        state = state[self.x-2:self.x+3,self.y-2:self.y+3,:]\n",
    "\n",
    "        return state, reward, game_over\n",
    "\n",
    "    def reset(self):\n",
    "        \"\"\"This function resets the game and returns the initial state\"\"\"\n",
    "\n",
    "        self.x = np.random.randint(3, self.grid_size-3, size=1)[0]\n",
    "        self.y = np.random.randint(3, self.grid_size-3, size=1)[0]\n",
    "\n",
    "\n",
    "        bonus = 0.5*np.random.binomial(1,self.temperature,size=self.grid_size**2)\n",
    "        bonus = bonus.reshape(self.grid_size,self.grid_size)\n",
    "\n",
    "        malus = -1.0*np.random.binomial(1,self.temperature,size=self.grid_size**2)\n",
    "        malus = malus.reshape(self.grid_size, self.grid_size)\n",
    "\n",
    "        self.to_draw = np.zeros((self.max_time+2, self.grid_size*self.scale, self.grid_size*self.scale, 3))\n",
    "\n",
    "\n",
    "        malus[bonus>0]=0\n",
    "\n",
    "        self.board = bonus + malus\n",
    "\n",
    "        self.position = np.zeros((self.grid_size, self.grid_size))\n",
    "        self.position[0:2,:]= -1\n",
    "        self.position[:,0:2] = -1\n",
    "        self.position[-2:, :] = -1\n",
    "        self.position[-2:, :] = -1\n",
    "        self.board[self.x,self.y] = 0\n",
    "        self.t = 0\n",
    "\n",
    "        state = np.concatenate((\n",
    "                               self.board.reshape(self.grid_size, self.grid_size,1),\n",
    "                        self.position.reshape(self.grid_size, self.grid_size,1)),axis=2)\n",
    "\n",
    "        state = state[self.x - 2:self.x + 3, self.y - 2:self.y + 3, :]\n",
    "        return state"
   ]
  },
  {
   "cell_type": "markdown",
   "metadata": {},
   "source": [
    "The following elements are important because they correspond to the hyper parameters for this project:"
   ]
  },
  {
   "cell_type": "code",
   "execution_count": 30,
   "metadata": {},
   "outputs": [],
   "source": [
    "# parameters\n",
    "size = 13\n",
    "T=200\n",
    "temperature=0.3\n",
    "epochs_train=50 # set small when debugging\n",
    "epochs_test=20 # set small when debugging\n",
    "\n",
    "# display videos\n",
    "def display_videos(name):\n",
    "    video = io.open(name, 'r+b').read()\n",
    "    encoded = base64.b64encode(video)\n",
    "    return '''<video alt=\"test\" controls>\n",
    "                <source src=\"data:video/mp4;base64,{0}\" type=\"video/mp4\" />\n",
    "             </video>'''.format(encoded.decode('ascii'))"
   ]
  },
  {
   "cell_type": "markdown",
   "metadata": {},
   "source": [
    "__Question 2__ Explain the use of the arrays ```position``` and ```board```."
   ]
  },
  {
   "cell_type": "markdown",
   "metadata": {},
   "source": [
    "> The ```position``` array is used to know where the agent is one the board.\n",
    "\n",
    "> The ```board``` array is used to keep track of if a cell is a bonus/malus/none."
   ]
  },
  {
   "cell_type": "markdown",
   "metadata": {},
   "source": [
    "## Random Agent"
   ]
  },
  {
   "cell_type": "markdown",
   "metadata": {},
   "source": [
    "***\n",
    "__Question 3__ Implement a random Agent (only ```learned_act``` needs to be implemented):"
   ]
  },
  {
   "cell_type": "code",
   "execution_count": 6,
   "metadata": {},
   "outputs": [],
   "source": [
    "class RandomAgent(Agent):\n",
    "    def __init__(self):\n",
    "        super(RandomAgent, self).__init__()\n",
    "\n",
    "    def learned_act(self, s):\n",
    "        return np.random.randint(0, self.n_action, size=1)[0]"
   ]
  },
  {
   "cell_type": "markdown",
   "metadata": {},
   "source": [
    "***\n",
    "***\n",
    "__Question 4__ Visualize the game moves. You need to fill in the following function for the evaluation:"
   ]
  },
  {
   "cell_type": "code",
   "execution_count": 7,
   "metadata": {},
   "outputs": [],
   "source": [
    "def test(agent,env,epochs,prefix=''):\n",
    "    # Number of won games\n",
    "    score = 0\n",
    "        \n",
    "    for e in range(epochs):\n",
    "        # At each epoch, we restart to a fresh game and get the initial state\n",
    "        state = env.reset()\n",
    "        # This assumes that the games will end\n",
    "        game_over = False\n",
    "\n",
    "        win = 0\n",
    "        lose = 0\n",
    "    \n",
    "        while not game_over:\n",
    "            # The agent performs an action\n",
    "            action = agent.act(state)\n",
    "\n",
    "            # Apply an action to the environment, get the next state, the reward\n",
    "            # and if the games end\n",
    "            prev_state = state\n",
    "            state, reward, game_over = env.act(action)\n",
    "\n",
    "            # Update the counters\n",
    "            if reward > 0:\n",
    "                win = win + reward\n",
    "            if reward < 0:\n",
    "                lose = lose -reward\n",
    "        \n",
    "        # Save as a mp4\n",
    "        env.draw(prefix+str(e))\n",
    "\n",
    "        # Update stats\n",
    "        score = score + win-lose\n",
    "\n",
    "        print(\"Win/lose count {}/{}. Average score ({})\"\n",
    "              .format(win, lose, score/(1+e)))\n",
    "    print('Final score: '+str(score/epochs))"
   ]
  },
  {
   "cell_type": "code",
   "execution_count": 19,
   "metadata": {},
   "outputs": [
    {
     "name": "stdout",
     "output_type": "stream",
     "text": [
      "Win/lose count 8.5/7.0. Average score (1.5)\n",
      "Win/lose count 9.0/7.0. Average score (1.75)\n",
      "Win/lose count 11.0/16.0. Average score (-0.5)\n",
      "Win/lose count 9.5/17.0. Average score (-2.25)\n",
      "Win/lose count 11.0/11.0. Average score (-1.8)\n",
      "Win/lose count 10.5/11.0. Average score (-1.5833333333333333)\n",
      "Win/lose count 11.5/14.0. Average score (-1.7142857142857142)\n",
      "Win/lose count 8.0/17.0. Average score (-2.625)\n",
      "Win/lose count 8.5/9.0. Average score (-2.388888888888889)\n",
      "Win/lose count 11.0/19.0. Average score (-2.95)\n",
      "Final score: -2.95\n"
     ]
    },
    {
     "data": {
      "text/html": [
       "<video alt=\"test\" controls>\n",
       "                <source src=\"data:video/mp4;base64,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\" type=\"video/mp4\" />\n",
       "             </video>"
      ],
      "text/plain": [
       "<IPython.core.display.HTML object>"
      ]
     },
     "execution_count": 19,
     "metadata": {},
     "output_type": "execute_result"
    }
   ],
   "source": [
    "# Initialize the game\n",
    "env = Environment(grid_size=size, max_time=T,temperature=temperature)\n",
    "\n",
    "# Initialize the agent!\n",
    "agent = RandomAgent()\n",
    "\n",
    "test(agent,env,epochs_test,prefix='random')\n",
    "HTML(display_videos('random0.mp4'))"
   ]
  },
  {
   "cell_type": "markdown",
   "metadata": {},
   "source": [
    "***\n",
    "## DQN"
   ]
  },
  {
   "cell_type": "markdown",
   "metadata": {},
   "source": [
    "Let us assume here that $T=\\infty$.\n",
    "\n",
    "***\n",
    "__Question 5__ Let $\\pi$ be a policy, show that:\n",
    "\n",
    "\n",
    "\\begin{equation*}\n",
    "Q^{\\pi}(s,a)=E_{(s',a')\\sim p(.|s,a)}[r(s,a)+\\gamma Q^{\\pi}(s',a')]\n",
    "\\end{equation*}\n",
    "\n",
    "Then, show that for the optimal policy $\\pi^*$ (we assume its existence), the following holds: \n",
    "\n",
    "\\begin{equation*}\n",
    "Q^{*}(s,a)=E_{s'\\sim \\pi^*(.|s,a)}[r(s,a)+\\gamma\\max_{a'}Q^{*}(s',a')].\n",
    "\\end{equation*}\n",
    "Finally, deduce that a plausible objective is:\n",
    "\n",
    "\\begin{equation*}\n",
    "\\mathcal{L}(\\theta)=E_{s' \\sim \\pi^*(.|s,a)}\\Vert r+\\gamma\\max\\max_{a'}Q(s',a',\\theta)-Q(s,a,\\theta)\\Vert^{2}.\n",
    "\\end{equation*}\n",
    "\n",
    "\n"
   ]
  },
  {
   "cell_type": "markdown",
   "metadata": {},
   "source": [
    "**Response**\n",
    "\n",
    "- $Q^{\\pi}(s,a)=E\\left[ r(s,a) + \\sum_{t=1}^{\\infty}\\gamma^{t} r_{t}(s_{t},\\pi(s_{t}))\\right] = E\\left[ r(s,a) + \\gamma \\sum_{t=0}^{\\infty}\\gamma^{t} r_{t}(s_{t},\\pi(s_{t}))\\right] = E_{s'\\sim p(.|s,a), a'\\sim\\pi(s')}[r(s,a)+\\gamma Q^{\\pi}(s',a')]$.\n",
    "\n",
    "- $Q^{*}(s,a)=E_{s'\\sim p^*(.|s,a)}[r(s,a)+\\gamma V^{*}(s')]$ and $V^{*}(s) = max_{a}Q^{*}(s,a)$.\n",
    "- As the optimal Bellman operator is a contractor operator, this objective is plausible. When this objective is low, Q is near the optimal.\n"
   ]
  },
  {
   "cell_type": "markdown",
   "metadata": {},
   "source": [
    "***\n",
    "The DQN-learning algorithm relies on these derivations to train the parameters $\\theta$ of a Deep Neural Network:\n",
    "\n",
    "1. At the state $s_t$, select the action $a_t$ with best reward using $Q_t$ and store the results;\n",
    "\n",
    "2. Obtain the new state $s_{t+1}$ from the environment $p$;\n",
    "\n",
    "3. Store $(s_t,a_t,s_{t+1})$;\n",
    "\n",
    "4. Obtain $Q_{t+1}$ by minimizing  $\\mathcal{L}$ from a recovered batch from the previously stored results.\n",
    "\n",
    "***\n",
    "__Question 6__ Implement the class ```Memory``` that stores moves (in a replay buffer) via ```remember``` and provides a ```random_access``` to these. Specify a maximum memory size to avoid side effects. You can for example use a ```list()``` and set by default ```max_memory=100```."
   ]
  },
  {
   "cell_type": "code",
   "execution_count": 8,
   "metadata": {},
   "outputs": [],
   "source": [
    "class Memory(object):\n",
    "    def __init__(self, max_memory=100):\n",
    "        self.max_memory = max_memory\n",
    "        self.memory = list()\n",
    "        self.position = 0\n",
    "\n",
    "    def remember(self, m):\n",
    "        if len(self.memory) < self.max_memory:\n",
    "            self.memory.append(None)\n",
    "        self.memory[self.position] = m\n",
    "        self.position = (self.position + 1) % self.max_memory\n",
    "\n",
    "    def random_access(self):\n",
    "        return random.sample(self.memory,1)"
   ]
  },
  {
   "cell_type": "markdown",
   "metadata": {},
   "source": [
    "***\n",
    "The pipeline we will use for training is given below:"
   ]
  },
  {
   "cell_type": "code",
   "execution_count": 9,
   "metadata": {},
   "outputs": [],
   "source": [
    "def train(agent,env,epoch,prefix=''):\n",
    "    # Number of won games\n",
    "    score = 0\n",
    "    loss = 0\n",
    "\n",
    "    for e in range(epoch):\n",
    "        # At each epoch, we restart to a fresh game and get the initial state\n",
    "        state = env.reset()\n",
    "        # This assumes that the games will terminate\n",
    "        game_over = False\n",
    "\n",
    "        win = 0\n",
    "        lose = 0\n",
    "\n",
    "        while not game_over:\n",
    "            # The agent performs an action\n",
    "            action = agent.act(state)\n",
    "\n",
    "            # Apply an action to the environment, get the next state, the reward\n",
    "            # and if the games end\n",
    "            prev_state = state\n",
    "            state, reward, game_over = env.act(action)\n",
    "\n",
    "            # Update the counters\n",
    "            if reward > 0:\n",
    "                win = win + reward\n",
    "            if reward < 0:\n",
    "                lose = lose -reward\n",
    "\n",
    "            # Apply the reinforcement strategy\n",
    "            loss = agent.reinforce(prev_state, state,  action, reward, game_over)\n",
    "\n",
    "        # Save as a mp4\n",
    "        if e % 10 == 0:\n",
    "            env.draw(prefix+str(e))\n",
    "\n",
    "        # Update stats\n",
    "        score += win-lose\n",
    "\n",
    "        print(\"Epoch {:03d}/{:03d} | Loss {:.4f} | Win/lose count {}/{} ({})\"\n",
    "              .format(e, epoch, loss, win, lose, win-lose))\n",
    "        agent.save(name_weights=prefix+'model.h5',name_model=prefix+'model.json')"
   ]
  },
  {
   "cell_type": "markdown",
   "metadata": {},
   "source": [
    "***\n",
    "__Question 7__ Implement the DQN training algorithm using a cascade of fully connected layers. You can use different learning rate, batch size or memory size parameters. In particular, the loss might oscillate while the player will start to win the games. You have to find a good criterium."
   ]
  },
  {
   "cell_type": "code",
   "execution_count": 10,
   "metadata": {},
   "outputs": [],
   "source": [
    "class DQN(Agent):\n",
    "    def __init__(self, grid_size,  epsilon = 0.1, memory_size=100, batch_size = 16,n_state=2):\n",
    "        super(DQN, self).__init__(epsilon = epsilon)\n",
    "\n",
    "        # Discount for Q learning\n",
    "        self.discount = 0.99\n",
    "        \n",
    "        self.grid_size = grid_size\n",
    "        \n",
    "        # number of state\n",
    "        self.n_state = n_state\n",
    "\n",
    "        # Memory\n",
    "        self.memory = Memory(memory_size)\n",
    "        \n",
    "        # Batch size when learning\n",
    "        self.batch_size = batch_size\n",
    "\n",
    "    def learned_act(self, s):\n",
    "        return np.argmax(self.model.predict(s.reshape(1,5,5,self.n_state)))\n",
    "\n",
    "    def reinforce(self, s_, n_s_, a_, r_, game_over_):\n",
    "        # Two steps: first memorize the states, second learn from the pool\n",
    "\n",
    "        self.memory.remember([s_, n_s_, a_, r_, game_over_])\n",
    "        \n",
    "        input_states = np.zeros((self.batch_size, 5,5,self.n_state))\n",
    "        # target_q is the same as q when the action is not choosen. Like this no gradient will flow back \n",
    "        #for unchoosen actions\n",
    "        target_q = np.zeros((self.batch_size, 4))\n",
    "        \n",
    "        for i in range(self.batch_size):\n",
    "            [s , n_s, a, r, game_over] = self.memory.random_access()[0]\n",
    "            preds = self.model.predict(n_s.reshape(1,5,5,self.n_state))\n",
    "            target_q[i] = preds\n",
    "            if game_over_:\n",
    "                target_q[i,a] = r\n",
    "            else:\n",
    "                target_q[i,a] = r + self.discount * np.max(preds)\n",
    "            \n",
    "            input_states[i] = s\n",
    "        # HINT: Clip the target to avoid exploiding gradients.. -- clipping is a bit tighter\n",
    "        target_q = np.clip(target_q, -3, 3)\n",
    "\n",
    "        l = self.model.train_on_batch(input_states, target_q)\n",
    "\n",
    "\n",
    "        return l\n",
    "\n",
    "    def save(self,name_weights='model.h5',name_model='model.json'):\n",
    "        self.model.save_weights(name_weights, overwrite=True)\n",
    "        with open(name_model, \"w\") as outfile:\n",
    "            json.dump(self.model.to_json(), outfile)\n",
    "            \n",
    "    def load(self,name_weights='model.h5',name_model='model.json'):\n",
    "        with open(name_model, \"r\") as jfile:\n",
    "            model = model_from_json(json.load(jfile))\n",
    "        model.load_weights(name_weights)\n",
    "        #model.compile(\"sgd\", \"mse\")\n",
    "        self.model = model\n",
    "\n",
    "            \n",
    "class DQN_FC(DQN):\n",
    "    def __init__(self, *args, lr=0.1,**kwargs):\n",
    "        super(DQN_FC, self).__init__( *args,**kwargs)\n",
    "        \n",
    "        # NN Model\n",
    "        model = Sequential([Reshape(target_shape= (25*self.n_state,)),\n",
    "        Dense(32, activation='relu'),\n",
    "        Dense(32, activation='relu'),\n",
    "        Dense(4)])\n",
    "\n",
    "\n",
    "        ####### FILL IN\n",
    "        \n",
    "        model.compile(SGD(lr=lr, decay=1e-4, momentum=0.0), \"mse\")\n",
    "        self.model = model\n",
    "        "
   ]
  },
  {
   "cell_type": "code",
   "execution_count": 11,
   "metadata": {},
   "outputs": [
    {
     "name": "stdout",
     "output_type": "stream",
     "text": [
      "Epoch 000/050 | Loss 0.1012 | Win/lose count 11.5/15.0 (-3.5)\n",
      "Epoch 001/050 | Loss 0.1022 | Win/lose count 7.0/9.0 (-2.0)\n",
      "Epoch 002/050 | Loss 0.0924 | Win/lose count 7.5/5.0 (2.5)\n",
      "Epoch 003/050 | Loss 0.0945 | Win/lose count 5.5/9.0 (-3.5)\n",
      "Epoch 004/050 | Loss 0.1134 | Win/lose count 5.0/10.0 (-5.0)\n",
      "Epoch 005/050 | Loss 0.0887 | Win/lose count 11.0/13.0 (-2.0)\n",
      "Epoch 006/050 | Loss 0.1758 | Win/lose count 9.0/16.0 (-7.0)\n",
      "Epoch 007/050 | Loss 0.1640 | Win/lose count 8.5/5.0 (3.5)\n",
      "Epoch 008/050 | Loss 0.1823 | Win/lose count 11.0/13.0 (-2.0)\n",
      "Epoch 009/050 | Loss 0.1971 | Win/lose count 7.0/13.0 (-6.0)\n",
      "Epoch 010/050 | Loss 0.1561 | Win/lose count 6.0/10.0 (-4.0)\n",
      "Epoch 011/050 | Loss 0.1622 | Win/lose count 19.0/11.0 (8.0)\n",
      "Epoch 012/050 | Loss 0.1787 | Win/lose count 14.0/14.0 (0.0)\n",
      "Epoch 013/050 | Loss 0.2670 | Win/lose count 5.5/15.0 (-9.5)\n",
      "Epoch 014/050 | Loss 0.2760 | Win/lose count 6.0/8.0 (-2.0)\n",
      "Epoch 015/050 | Loss 0.2883 | Win/lose count 7.0/11.0 (-4.0)\n",
      "Epoch 016/050 | Loss 0.3091 | Win/lose count 6.5/9.0 (-2.5)\n",
      "Epoch 017/050 | Loss 0.2748 | Win/lose count 7.0/5.0 (2.0)\n",
      "Epoch 018/050 | Loss 0.3898 | Win/lose count 5.5/9.0 (-3.5)\n",
      "Epoch 019/050 | Loss 0.4039 | Win/lose count 8.5/14.0 (-5.5)\n",
      "Epoch 020/050 | Loss 0.4648 | Win/lose count 8.0/5.0 (3.0)\n",
      "Epoch 021/050 | Loss 0.5018 | Win/lose count 14.0/17.0 (-3.0)\n",
      "Epoch 022/050 | Loss 0.5503 | Win/lose count 4.5/9.0 (-4.5)\n",
      "Epoch 023/050 | Loss 0.5849 | Win/lose count 10.5/13.0 (-2.5)\n",
      "Epoch 024/050 | Loss 0.5218 | Win/lose count 9.0/21.0 (-12.0)\n",
      "Epoch 025/050 | Loss 0.6700 | Win/lose count 7.5/17.0 (-9.5)\n",
      "Epoch 026/050 | Loss 0.6655 | Win/lose count 8.0/10.0 (-2.0)\n",
      "Epoch 027/050 | Loss 0.6952 | Win/lose count 3.0/6.0 (-3.0)\n",
      "Epoch 028/050 | Loss 0.6995 | Win/lose count 10.5/12.0 (-1.5)\n",
      "Epoch 029/050 | Loss 0.7497 | Win/lose count 9.0/20.0 (-11.0)\n",
      "Epoch 030/050 | Loss 0.9170 | Win/lose count 7.5/17.0 (-9.5)\n",
      "Epoch 031/050 | Loss 0.7131 | Win/lose count 9.0/14.0 (-5.0)\n",
      "Epoch 032/050 | Loss 0.8469 | Win/lose count 10.5/12.0 (-1.5)\n",
      "Epoch 033/050 | Loss 0.8892 | Win/lose count 10.5/11.0 (-0.5)\n",
      "Epoch 034/050 | Loss 0.8365 | Win/lose count 6.5/9.0 (-2.5)\n",
      "Epoch 035/050 | Loss 0.8362 | Win/lose count 8.5/12.0 (-3.5)\n",
      "Epoch 036/050 | Loss 0.9312 | Win/lose count 5.0/6.0 (-1.0)\n",
      "Epoch 037/050 | Loss 0.9298 | Win/lose count 2.5/7.0 (-4.5)\n",
      "Epoch 038/050 | Loss 1.0138 | Win/lose count 5.5/11.0 (-5.5)\n",
      "Epoch 039/050 | Loss 1.0276 | Win/lose count 7.0/11.0 (-4.0)\n",
      "Epoch 040/050 | Loss 0.9729 | Win/lose count 11.0/15.0 (-4.0)\n",
      "Epoch 041/050 | Loss 1.0742 | Win/lose count 4.5/10.0 (-5.5)\n",
      "Epoch 042/050 | Loss 1.1755 | Win/lose count 8.5/8.0 (0.5)\n",
      "Epoch 043/050 | Loss 1.1561 | Win/lose count 15.0/8.0 (7.0)\n",
      "Epoch 044/050 | Loss 1.0212 | Win/lose count 7.5/9.0 (-1.5)\n",
      "Epoch 045/050 | Loss 1.3072 | Win/lose count 8.5/13.0 (-4.5)\n",
      "Epoch 046/050 | Loss 1.2544 | Win/lose count 8.0/12.0 (-4.0)\n",
      "Epoch 047/050 | Loss 1.3886 | Win/lose count 7.5/10.0 (-2.5)\n",
      "Epoch 048/050 | Loss 1.4332 | Win/lose count 10.0/2.0 (8.0)\n",
      "Epoch 049/050 | Loss 1.3735 | Win/lose count 6.0/8.0 (-2.0)\n"
     ]
    },
    {
     "data": {
      "text/html": [
       "<video alt=\"test\" controls>\n",
       "                <source src=\"data:video/mp4;base64,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\" type=\"video/mp4\" />\n",
       "             </video>"
      ],
      "text/plain": [
       "<IPython.core.display.HTML object>"
      ]
     },
     "execution_count": 11,
     "metadata": {},
     "output_type": "execute_result"
    }
   ],
   "source": [
    "env = Environment(grid_size=size, max_time=T, temperature=0.3)\n",
    "agent = DQN_FC(size, lr=.01, epsilon = 0.5, memory_size=2000, batch_size = 32)\n",
    "train(agent, env, epochs_train, prefix='fc_train')\n",
    "HTML(display_videos('fc_train40.mp4'))"
   ]
  },
  {
   "cell_type": "markdown",
   "metadata": {},
   "source": [
    "***\n",
    "***\n",
    "__Question 8__ Implement the DQN training algorithm using a CNN (for example, 2 convolutional layers and one final fully connected layer)."
   ]
  },
  {
   "cell_type": "code",
   "execution_count": 15,
   "metadata": {},
   "outputs": [],
   "source": [
    "class DQN_CNN(DQN):\n",
    "    def __init__(self, *args,lr=0.1,**kwargs):\n",
    "        super(DQN_CNN, self).__init__(*args,**kwargs)\n",
    "        \n",
    "        model = Sequential([Conv2D(5,(2,2)),\n",
    "            Conv2D(5,(2,2)),\n",
    "            Reshape((-1,)),\n",
    "            Dense(4)])\n",
    "        \n",
    "        model.compile(SGD(lr=lr, decay=1e-4, momentum=0.0), \"mse\")\n",
    "        self.model = model"
   ]
  },
  {
   "cell_type": "code",
   "execution_count": 117,
   "metadata": {},
   "outputs": [
    {
     "name": "stdout",
     "output_type": "stream",
     "text": [
      "Epoch 000/050 | Loss 0.4616 | Win/lose count 7.5/7.0 (0.5)\n",
      "Epoch 001/050 | Loss 4.2351 | Win/lose count 5.0/7.0 (-2.0)\n",
      "Epoch 002/050 | Loss 5.2390 | Win/lose count 5.0/4.0 (1.0)\n",
      "Epoch 003/050 | Loss 5.4636 | Win/lose count 6.0/10.0 (-4.0)\n",
      "Epoch 004/050 | Loss 5.4644 | Win/lose count 3.0/8.0 (-5.0)\n",
      "Epoch 005/050 | Loss 6.0208 | Win/lose count 4.5/6.0 (-1.5)\n",
      "Epoch 006/050 | Loss 5.2608 | Win/lose count 5.5/9.0 (-3.5)\n",
      "Epoch 007/050 | Loss 5.8850 | Win/lose count 4.5/4.0 (0.5)\n",
      "Epoch 008/050 | Loss 5.4196 | Win/lose count 8.0/7.0 (1.0)\n",
      "Epoch 009/050 | Loss 5.0899 | Win/lose count 4.5/5.0 (-0.5)\n",
      "Epoch 010/050 | Loss 5.0823 | Win/lose count 5.5/5.0 (0.5)\n",
      "Epoch 011/050 | Loss 5.2213 | Win/lose count 7.0/14.0 (-7.0)\n",
      "Epoch 012/050 | Loss 5.2861 | Win/lose count 9.5/5.0 (4.5)\n",
      "Epoch 013/050 | Loss 6.2965 | Win/lose count 5.5/6.0 (-0.5)\n",
      "Epoch 014/050 | Loss 5.5151 | Win/lose count 5.5/7.0 (-1.5)\n",
      "Epoch 015/050 | Loss 5.5387 | Win/lose count 6.5/13.0 (-6.5)\n",
      "Epoch 016/050 | Loss 5.0908 | Win/lose count 4.5/8.0 (-3.5)\n",
      "Epoch 017/050 | Loss 5.0675 | Win/lose count 2.5/6.0 (-3.5)\n",
      "Epoch 018/050 | Loss 6.1452 | Win/lose count 3.5/3.0 (0.5)\n",
      "Epoch 019/050 | Loss 4.2203 | Win/lose count 5.0/6.0 (-1.0)\n",
      "Epoch 020/050 | Loss 5.5822 | Win/lose count 8.0/10.0 (-2.0)\n",
      "Epoch 021/050 | Loss 5.8053 | Win/lose count 7.5/4.0 (3.5)\n",
      "Epoch 022/050 | Loss 5.1625 | Win/lose count 6.5/15.0 (-8.5)\n",
      "Epoch 023/050 | Loss 4.3856 | Win/lose count 4.0/3.0 (1.0)\n",
      "Epoch 024/050 | Loss 4.7972 | Win/lose count 7.0/4.0 (3.0)\n",
      "Epoch 025/050 | Loss 4.9281 | Win/lose count 5.0/8.0 (-3.0)\n",
      "Epoch 026/050 | Loss 5.2229 | Win/lose count 3.5/7.0 (-3.5)\n",
      "Epoch 027/050 | Loss 4.6478 | Win/lose count 4.0/2.0 (2.0)\n",
      "Epoch 028/050 | Loss 5.2750 | Win/lose count 3.0/5.0 (-2.0)\n",
      "Epoch 029/050 | Loss 4.6408 | Win/lose count 6.5/6.0 (0.5)\n",
      "Epoch 030/050 | Loss 4.5498 | Win/lose count 5.0/8.0 (-3.0)\n",
      "Epoch 031/050 | Loss 4.9304 | Win/lose count 6.0/6.0 (0.0)\n",
      "Epoch 032/050 | Loss 4.2995 | Win/lose count 5.5/7.0 (-1.5)\n",
      "Epoch 033/050 | Loss 4.4865 | Win/lose count 4.5/10.0 (-5.5)\n",
      "Epoch 034/050 | Loss 5.1386 | Win/lose count 7.0/4.0 (3.0)\n",
      "Epoch 035/050 | Loss 3.3346 | Win/lose count 5.0/7.0 (-2.0)\n",
      "Epoch 036/050 | Loss 4.0120 | Win/lose count 9.5/16.0 (-6.5)\n",
      "Epoch 037/050 | Loss 3.7898 | Win/lose count 6.5/7.0 (-0.5)\n",
      "Epoch 038/050 | Loss 3.8954 | Win/lose count 5.0/5.0 (0.0)\n",
      "Epoch 039/050 | Loss 3.9800 | Win/lose count 2.5/8.0 (-5.5)\n",
      "Epoch 040/050 | Loss 4.1374 | Win/lose count 6.5/10.0 (-3.5)\n",
      "Epoch 041/050 | Loss 4.2519 | Win/lose count 6.5/14.0 (-7.5)\n",
      "Epoch 042/050 | Loss 4.0021 | Win/lose count 6.0/5.0 (1.0)\n",
      "Epoch 043/050 | Loss 3.1983 | Win/lose count 7.0/11.0 (-4.0)\n",
      "Epoch 044/050 | Loss 3.3146 | Win/lose count 4.0/10.0 (-6.0)\n",
      "Epoch 045/050 | Loss 3.5163 | Win/lose count 7.0/10.0 (-3.0)\n",
      "Epoch 046/050 | Loss 3.6059 | Win/lose count 6.0/7.0 (-1.0)\n",
      "Epoch 047/050 | Loss 4.4240 | Win/lose count 8.5/10.0 (-1.5)\n",
      "Epoch 048/050 | Loss 3.5620 | Win/lose count 8.5/8.0 (0.5)\n",
      "Epoch 049/050 | Loss 3.2739 | Win/lose count 4.0/4.0 (0.0)\n"
     ]
    },
    {
     "data": {
      "text/html": [
       "<video alt=\"test\" controls>\n",
       "                <source src=\"data:video/mp4;base64,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\" type=\"video/mp4\" />\n",
       "             </video>"
      ],
      "text/plain": [
       "<IPython.core.display.HTML object>"
      ]
     },
     "execution_count": 117,
     "metadata": {},
     "output_type": "execute_result"
    }
   ],
   "source": [
    "env = Environment(grid_size=size, max_time=T, temperature=0.3)\n",
    "agent = DQN_CNN(size, lr=.01, epsilon = 0.5, memory_size=2000, batch_size = 32)\n",
    "train(agent,env,epochs_train,prefix='cnn_train')\n",
    "HTML(display_videos('cnn_train10.mp4'))"
   ]
  },
  {
   "cell_type": "markdown",
   "metadata": {},
   "source": [
    "***\n",
    "***\n",
    "__Question 9__ Test both algorithms and compare their performances. Which issue(s) do you observe? Observe also different behaviors by changing the temperature."
   ]
  },
  {
   "cell_type": "code",
   "execution_count": 126,
   "metadata": {},
   "outputs": [
    {
     "name": "stdout",
     "output_type": "stream",
     "text": [
      "Test of the CNN\n",
      "Win/lose count 4.5/1.0. Average score (3.5)\n",
      "Win/lose count 5.0/8.0. Average score (0.25)\n",
      "Win/lose count 6.0/3.0. Average score (1.1666666666666667)\n",
      "Win/lose count 5.0/1.0. Average score (1.875)\n",
      "Win/lose count 7.5/5.0. Average score (2.0)\n",
      "Win/lose count 2.0/3.0. Average score (1.5)\n",
      "Win/lose count 4.5/2.0. Average score (1.6428571428571428)\n",
      "Win/lose count 4.5/3.0. Average score (1.625)\n",
      "Win/lose count 6.0/1.0. Average score (2.0)\n",
      "Win/lose count 2.5/1.0. Average score (1.95)\n",
      "Win/lose count 4.5/1.0. Average score (2.090909090909091)\n",
      "Win/lose count 6.5/3.0. Average score (2.2083333333333335)\n",
      "Win/lose count 2.0/2.0. Average score (2.0384615384615383)\n",
      "Win/lose count 2.0/3.0. Average score (1.8214285714285714)\n",
      "Win/lose count 3.5/5.0. Average score (1.6)\n",
      "Win/lose count 1.5/2.0. Average score (1.46875)\n",
      "Win/lose count 3.5/5.0. Average score (1.2941176470588236)\n",
      "Win/lose count 5.0/1.0. Average score (1.4444444444444444)\n",
      "Win/lose count 11.0/8.0. Average score (1.5263157894736843)\n",
      "Win/lose count 5.5/2.0. Average score (1.625)\n",
      "Final score: 1.625\n",
      "Test of the FC\n",
      "Win/lose count 3.0/3.0. Average score (0.0)\n",
      "Win/lose count 5.0/4.0. Average score (0.5)\n",
      "Win/lose count 6.5/4.0. Average score (1.1666666666666667)\n",
      "Win/lose count 3.0/4.0. Average score (0.625)\n",
      "Win/lose count 4.0/0. Average score (1.3)\n",
      "Win/lose count 2.5/0. Average score (1.5)\n",
      "Win/lose count 9.0/6.0. Average score (1.7142857142857142)\n",
      "Win/lose count 5.5/4.0. Average score (1.6875)\n",
      "Win/lose count 4.5/6.0. Average score (1.3333333333333333)\n",
      "Win/lose count 5.5/4.0. Average score (1.35)\n",
      "Win/lose count 5.5/5.0. Average score (1.2727272727272727)\n",
      "Win/lose count 2.5/2.0. Average score (1.2083333333333333)\n",
      "Win/lose count 7.5/6.0. Average score (1.2307692307692308)\n",
      "Win/lose count 2.5/6.0. Average score (0.8928571428571429)\n",
      "Win/lose count 1.0/0. Average score (0.9)\n",
      "Win/lose count 3.0/3.0. Average score (0.84375)\n",
      "Win/lose count 5.5/8.0. Average score (0.6470588235294118)\n",
      "Win/lose count 3.0/1.0. Average score (0.7222222222222222)\n",
      "Win/lose count 6.5/4.0. Average score (0.8157894736842105)\n",
      "Win/lose count 5.0/5.0. Average score (0.775)\n",
      "Final score: 0.775\n"
     ]
    }
   ],
   "source": [
    "env = Environment(grid_size=size, max_time=T,temperature=0.3)\n",
    "agent_cnn = DQN_CNN(size, lr=.1, epsilon = 0.1, memory_size=2000, batch_size = 32)\n",
    "agent_cnn.load(name_weights='cnn_trainmodel.h5',name_model='cnn_trainmodel.json')\n",
    "\n",
    "agent_fc = DQN_FC(size, lr=.1, epsilon = 0.1, memory_size=2000, batch_size = 32)\n",
    "agent_fc.load(name_weights='fc_trainmodel.h5',name_model='fc_trainmodel.json')\n",
    "print('Test of the CNN')\n",
    "test(agent_cnn,env,epochs_test,prefix='cnn_test')\n",
    "print('Test of the FC')\n",
    "test(agent_fc,env,epochs_test,prefix='fc_test')"
   ]
  },
  {
   "cell_type": "code",
   "execution_count": 127,
   "metadata": {},
   "outputs": [
    {
     "data": {
      "text/html": [
       "<video alt=\"test\" controls>\n",
       "                <source src=\"data:video/mp4;base64,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\" type=\"video/mp4\" />\n",
       "             </video>"
      ],
      "text/plain": [
       "<IPython.core.display.HTML object>"
      ]
     },
     "execution_count": 127,
     "metadata": {},
     "output_type": "execute_result"
    }
   ],
   "source": [
    "HTML(display_videos('cnn_test10.mp4'))"
   ]
  },
  {
   "cell_type": "code",
   "execution_count": 130,
   "metadata": {},
   "outputs": [
    {
     "data": {
      "text/html": [
       "<video alt=\"test\" controls>\n",
       "                <source src=\"data:video/mp4;base64,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\" type=\"video/mp4\" />\n",
       "             </video>"
      ],
      "text/plain": [
       "<IPython.core.display.HTML object>"
      ]
     },
     "execution_count": 130,
     "metadata": {},
     "output_type": "execute_result"
    }
   ],
   "source": [
    "HTML(display_videos('fc_test15.mp4'))"
   ]
  },
  {
   "cell_type": "markdown",
   "metadata": {},
   "source": [
    "**Response**\n",
    "\n",
    "> I observe that the agent do not explore the space but stay in a small region of the board."
   ]
  },
  {
   "cell_type": "markdown",
   "metadata": {},
   "source": [
    "***\n",
    "\n",
    "The algorithm tends to not explore the map which can be an issue. We propose two ideas in order to encourage exploration:\n",
    "1. Incorporating a decreasing $\\epsilon$-greedy exploration. You can use the method ```set_epsilon```\n",
    "2. Append via the environment a new state that describes if a cell has been visited or not\n",
    "\n",
    "***\n",
    "__Question 10__ Design a new ```train_explore``` function and environment class ```EnvironmentExploring``` to tackle the issue of exploration.\n",
    "\n"
   ]
  },
  {
   "cell_type": "code",
   "execution_count": 50,
   "metadata": {},
   "outputs": [],
   "source": [
    "class EnvironmentExploring(Environment):\n",
    "    def __init__(self, grid_size=10, max_time=500, temperature=0.1):\n",
    "        super(EnvironmentExploring, self).__init__(grid_size=10, max_time=500, temperature=0.1)\n",
    "        self.malus_position = np.zeros((self.grid_size,self.grid_size))\n",
    "    \n",
    "    def act(self, action, train=True):\n",
    "        \"\"\"This function returns the new state, reward and decides if the\n",
    "        game ends.\"\"\"\n",
    "\n",
    "        self.get_frame(int(self.t))\n",
    "\n",
    "        self.position = np.zeros((self.grid_size, self.grid_size))\n",
    "\n",
    "        self.position[0:2,:]= -1\n",
    "        self.position[:,0:2] = -1\n",
    "        self.position[-2:, :] = -1\n",
    "        self.position[-2:, :] = -1\n",
    "\n",
    "        self.position[self.x, self.y] = 1\n",
    "        if action == 0:\n",
    "            if self.x == self.grid_size-3:\n",
    "                self.x = self.x-1\n",
    "            else:\n",
    "                self.x = self.x + 1\n",
    "        elif action == 1:\n",
    "            if self.x == 2:\n",
    "                self.x = self.x+1\n",
    "            else:\n",
    "                self.x = self.x-1\n",
    "        elif action == 2:\n",
    "            if self.y == self.grid_size - 3:\n",
    "                self.y = self.y - 1\n",
    "            else:\n",
    "                self.y = self.y + 1\n",
    "        elif action == 3:\n",
    "            if self.y == 2:\n",
    "                self.y = self.y + 1\n",
    "            else:\n",
    "                self.y = self.y - 1\n",
    "        else:\n",
    "            RuntimeError('Error: action not recognized')\n",
    "\n",
    "        self.t = self.t + 1\n",
    "        reward = self.board[self.x, self.y]\n",
    "        self.board[self.x, self.y] = 0\n",
    "        if train:\n",
    "            reward -= self.malus_position[self.x, self.y]\n",
    "        self.malus_position[self.x, self.y] = 0.1\n",
    "        game_over = self.t > self.max_time\n",
    "        state = np.concatenate((self.malus_position.reshape(self.grid_size, self.grid_size,1),\n",
    "                                self.board.reshape(self.grid_size, self.grid_size,1),\n",
    "                        self.position.reshape(self.grid_size, self.grid_size,1)),axis=2)\n",
    "        state = state[self.x-2:self.x+3,self.y-2:self.y+3,:]\n",
    "\n",
    "        return state, reward, game_over\n",
    "\n",
    "    def reset(self):\n",
    "        \"\"\"This function resets the game and returns the initial state\"\"\"\n",
    "\n",
    "        self.x = np.random.randint(3, self.grid_size-3, size=1)[0]\n",
    "        self.y = np.random.randint(3, self.grid_size-3, size=1)[0]\n",
    "\n",
    "\n",
    "        bonus = 0.5*np.random.binomial(1,self.temperature,size=self.grid_size**2)\n",
    "        bonus = bonus.reshape(self.grid_size,self.grid_size)\n",
    "\n",
    "        malus = -1.0*np.random.binomial(1,self.temperature,size=self.grid_size**2)\n",
    "        malus = malus.reshape(self.grid_size, self.grid_size)\n",
    "\n",
    "        self.to_draw = np.zeros((self.max_time+2, self.grid_size*self.scale, self.grid_size*self.scale, 3))\n",
    "\n",
    "\n",
    "        malus[bonus>0]=0\n",
    "\n",
    "        self.board = bonus + malus\n",
    "\n",
    "        self.position = np.zeros((self.grid_size, self.grid_size))\n",
    "        self.position[0:2,:]= -1\n",
    "        self.position[:,0:2] = -1\n",
    "        self.position[-2:, :] = -1\n",
    "        self.position[-2:, :] = -1\n",
    "        self.board[self.x,self.y] = 0\n",
    "        self.t = 0\n",
    "        \n",
    "        self.malus_position = np.zeros((self.grid_size,self.grid_size))\n",
    "        \n",
    "        state = np.concatenate((self.malus_position.reshape(self.grid_size, self.grid_size,1),\n",
    "                               self.board.reshape(self.grid_size, self.grid_size,1),\n",
    "                        self.position.reshape(self.grid_size, self.grid_size,1)),axis=2)\n",
    "\n",
    "        state = state[self.x - 2:self.x + 3, self.y - 2:self.y + 3, :]\n",
    "        return state"
   ]
  },
  {
   "cell_type": "code",
   "execution_count": 51,
   "metadata": {},
   "outputs": [],
   "source": [
    "def train_explore(agent,env,epoch, eps_init=1, eps_end=0.05, prefix=''):\n",
    "    # Number of won games\n",
    "    score = 0\n",
    "    loss = 0\n",
    "    eps_decay = (eps_init-eps_end)/epoch\n",
    "    for e in range(epoch):\n",
    "        agent.set_epsilon(eps_init - e*eps_decay)\n",
    "        # At each epoch, we restart to a fresh game and get the initial state\n",
    "        state = env.reset()\n",
    "        # This assumes that the games will terminate\n",
    "        game_over = False\n",
    "\n",
    "        win = 0\n",
    "        lose = 0\n",
    "\n",
    "        while not game_over:\n",
    "            # The agent performs an action\n",
    "            action = agent.act(state)\n",
    "\n",
    "            # Apply an action to the environment, get the next state, the reward\n",
    "            # and if the games end\n",
    "            prev_state = state\n",
    "            state, reward, game_over = env.act(action)\n",
    "\n",
    "            # Update the counters\n",
    "            if reward > 0:\n",
    "                win = win + reward\n",
    "            if reward < 0:\n",
    "                lose = lose -reward\n",
    "\n",
    "            # Apply the reinforcement strategy\n",
    "            loss = agent.reinforce(prev_state, state,  action, reward, game_over)\n",
    "\n",
    "        # Save as a mp4\n",
    "        if e % 10 == 0:\n",
    "            env.draw(prefix+str(e))\n",
    "\n",
    "        # Update stats\n",
    "        score += win-lose\n",
    "\n",
    "        print(\"Epoch {:03d}/{:03d} | Loss {:.4f} | Win/lose count {}/{} ({})\"\n",
    "              .format(e, epoch, loss, win, lose, win-lose))\n",
    "        agent.save(name_weights=prefix+'model.h5',name_model=prefix+'model.json')"
   ]
  },
  {
   "cell_type": "code",
   "execution_count": 58,
   "metadata": {},
   "outputs": [
    {
     "name": "stdout",
     "output_type": "stream",
     "text": [
      "Epoch 000/012 | Loss 0.0095 | Win/lose count 2.0/48.200000000000394 (-46.200000000000394)\n",
      "Epoch 001/012 | Loss 1.9829 | Win/lose count 4.5/47.700000000000394 (-43.200000000000394)\n",
      "Epoch 002/012 | Loss 2.0302 | Win/lose count 4.5/50.50000000000037 (-46.00000000000037)\n",
      "Epoch 003/012 | Loss 2.0385 | Win/lose count 4.5/48.50000000000042 (-44.00000000000042)\n",
      "Epoch 004/012 | Loss 2.0880 | Win/lose count 2.5/51.50000000000042 (-49.00000000000042)\n",
      "Epoch 005/012 | Loss 2.0691 | Win/lose count 5.0/45.80000000000039 (-40.80000000000039)\n",
      "Epoch 006/012 | Loss 2.0774 | Win/lose count 6.0/47.00000000000036 (-41.00000000000036)\n",
      "Epoch 007/012 | Loss 2.0752 | Win/lose count 5.5/52.60000000000041 (-47.10000000000041)\n",
      "Epoch 008/012 | Loss 2.0522 | Win/lose count 3.5/46.80000000000039 (-43.30000000000039)\n",
      "Epoch 009/012 | Loss 2.1039 | Win/lose count 5.0/47.30000000000036 (-42.30000000000036)\n",
      "Epoch 010/012 | Loss 2.0420 | Win/lose count 6.0/46.30000000000038 (-40.30000000000038)\n",
      "Epoch 011/012 | Loss 2.0393 | Win/lose count 5.0/46.600000000000406 (-41.600000000000406)\n"
     ]
    },
    {
     "data": {
      "text/html": [
       "<video alt=\"test\" controls>\n",
       "                <source src=\"data:video/mp4;base64,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\" type=\"video/mp4\" />\n",
       "             </video>"
      ],
      "text/plain": [
       "<IPython.core.display.HTML object>"
      ]
     },
     "execution_count": 58,
     "metadata": {},
     "output_type": "execute_result"
    }
   ],
   "source": [
    "# Training\n",
    "env = EnvironmentExploring(grid_size=18, max_time=T, temperature=0.5)\n",
    "agent = DQN_CNN(size, lr=.1, epsilon = 0.1, memory_size=2000, batch_size = 32,n_state=3)\n",
    "train_explore(agent, env, 12, prefix='cnn_train_explore')\n",
    "HTML(display_videos('cnn_train_explore40.mp4'))"
   ]
  },
  {
   "cell_type": "code",
   "execution_count": 55,
   "metadata": {},
   "outputs": [
    {
     "data": {
      "text/html": [
       "<video alt=\"test\" controls>\n",
       "                <source src=\"data:video/mp4;base64,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\" type=\"video/mp4\" />\n",
       "             </video>"
      ],
      "text/plain": [
       "<IPython.core.display.HTML object>"
      ]
     },
     "execution_count": 55,
     "metadata": {},
     "output_type": "execute_result"
    }
   ],
   "source": [
    "HTML(display_videos('cnn_train_explore40.mp4'))"
   ]
  },
  {
   "cell_type": "code",
   "execution_count": 59,
   "metadata": {},
   "outputs": [
    {
     "name": "stdout",
     "output_type": "stream",
     "text": [
      "Win/lose count 1.0/48.300000000000416. Average score (-47.300000000000416)\n",
      "Win/lose count 0.5/50.60000000000045. Average score (-48.70000000000043)\n",
      "Win/lose count 0.5/50.80000000000044. Average score (-49.23333333333377)\n",
      "Win/lose count 1.5/48.40000000000042. Average score (-48.65000000000043)\n",
      "Win/lose count 1.0/49.300000000000416. Average score (-48.580000000000425)\n",
      "Win/lose count 3.0/48.900000000000425. Average score (-48.13333333333376)\n",
      "Win/lose count 0.5/48.80000000000042. Average score (-48.157142857143285)\n",
      "Win/lose count 0/48.50000000000042. Average score (-48.20000000000042)\n",
      "Win/lose count 0/49.10000000000043. Average score (-48.30000000000042)\n",
      "Win/lose count 0.5/51.20000000000045. Average score (-48.540000000000425)\n",
      "Win/lose count 1.5/48.60000000000042. Average score (-48.40909090909133)\n",
      "Win/lose count 2.0/49.80000000000042. Average score (-48.35833333333375)\n",
      "Win/lose count 0/49.10000000000041. Average score (-48.41538461538504)\n",
      "Win/lose count 0/51.10000000000043. Average score (-48.60714285714328)\n",
      "Win/lose count 1.0/48.80000000000041. Average score (-48.553333333333754)\n",
      "Win/lose count 0.5/49.30000000000043. Average score (-48.56875000000042)\n",
      "Win/lose count 1.0/50.600000000000435. Average score (-48.629411764706305)\n",
      "Win/lose count 2.5/50.10000000000041. Average score (-48.57222222222264)\n",
      "Win/lose count 1.0/52.20000000000046. Average score (-48.7105263157899)\n",
      "Win/lose count 0.5/50.20000000000045. Average score (-48.76000000000043)\n",
      "Final score: -48.76000000000043\n"
     ]
    },
    {
     "data": {
      "text/html": [
       "<video alt=\"test\" controls>\n",
       "                <source src=\"data:video/mp4;base64,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\" type=\"video/mp4\" />\n",
       "             </video>"
      ],
      "text/plain": [
       "<IPython.core.display.HTML object>"
      ]
     },
     "execution_count": 59,
     "metadata": {},
     "output_type": "execute_result"
    }
   ],
   "source": [
    "# Evaluation\n",
    "test(agent,env,epochs_test,prefix='cnn_test_explore')\n",
    "HTML(display_videos('cnn_test_explore10.mp4'))"
   ]
  },
  {
   "cell_type": "markdown",
   "metadata": {},
   "source": [
    "***\n",
    "***\n",
    "__BONUS question__ Use the expert DQN from the previous question to generate some winning games. Train a model that mimicks its behavior. Compare the performances."
   ]
  },
  {
   "cell_type": "markdown",
   "metadata": {},
   "source": []
  },
  {
   "cell_type": "markdown",
   "metadata": {},
   "source": [
    "***"
   ]
  }
 ],
 "metadata": {
  "kernelspec": {
   "display_name": "Python 3",
   "language": "python",
   "name": "python3"
  },
  "language_info": {
   "codemirror_mode": {
    "name": "ipython",
    "version": 3
   },
   "file_extension": ".py",
   "mimetype": "text/x-python",
   "name": "python",
   "nbconvert_exporter": "python",
   "pygments_lexer": "ipython3",
   "version": "3.6.8"
  }
 },
 "nbformat": 4,
 "nbformat_minor": 2
}
